{
  "nbformat": 4,
  "nbformat_minor": 0,
  "metadata": {
    "colab": {
      "provenance": []
    },
    "kernelspec": {
      "name": "python3",
      "display_name": "Python 3"
    },
    "language_info": {
      "name": "python"
    }
  },
  "cells": [
    {
      "cell_type": "code",
      "execution_count": 1,
      "metadata": {
        "id": "VQk8nA8pV16z"
      },
      "outputs": [],
      "source": [
        "import torch\n",
        "import torch.nn as nn\n",
        "from torch.utils.data  import Dataset,DataLoader\n",
        "import numpy as np\n",
        "import pandas as pd"
      ]
    },
    {
      "cell_type": "code",
      "source": [
        "device=torch.device(\"cuda\" if torch.cuda.is_available() else \"cpu\")\n",
        "device"
      ],
      "metadata": {
        "colab": {
          "base_uri": "https://localhost:8080/"
        },
        "id": "3bmhxi2EWGne",
        "outputId": "dc91556f-3163-4d6b-d55f-730a4611b03e"
      },
      "execution_count": 2,
      "outputs": [
        {
          "output_type": "execute_result",
          "data": {
            "text/plain": [
              "device(type='cpu')"
            ]
          },
          "metadata": {},
          "execution_count": 2
        }
      ]
    },
    {
      "cell_type": "code",
      "source": [
        "df=pd.read_csv(\"data_rnn.csv\")\n",
        "df.head()"
      ],
      "metadata": {
        "colab": {
          "base_uri": "https://localhost:8080/",
          "height": 206
        },
        "id": "nEHLYIonXlyh",
        "outputId": "df4305bc-2dbe-49a6-c77d-f5474f5f329d"
      },
      "execution_count": 4,
      "outputs": [
        {
          "output_type": "execute_result",
          "data": {
            "text/plain": [
              "                                          question      answer\n",
              "0                   What is the capital of France?       Paris\n",
              "1                  What is the capital of Germany?      Berlin\n",
              "2               Who wrote 'To Kill a Mockingbird'?  Harper-Lee\n",
              "3  What is the largest planet in our solar system?     Jupiter\n",
              "4   What is the boiling point of water in Celsius?         100"
            ],
            "text/html": [
              "\n",
              "  <div id=\"df-25a8331e-846b-4555-8ed0-cda72275e872\" class=\"colab-df-container\">\n",
              "    <div>\n",
              "<style scoped>\n",
              "    .dataframe tbody tr th:only-of-type {\n",
              "        vertical-align: middle;\n",
              "    }\n",
              "\n",
              "    .dataframe tbody tr th {\n",
              "        vertical-align: top;\n",
              "    }\n",
              "\n",
              "    .dataframe thead th {\n",
              "        text-align: right;\n",
              "    }\n",
              "</style>\n",
              "<table border=\"1\" class=\"dataframe\">\n",
              "  <thead>\n",
              "    <tr style=\"text-align: right;\">\n",
              "      <th></th>\n",
              "      <th>question</th>\n",
              "      <th>answer</th>\n",
              "    </tr>\n",
              "  </thead>\n",
              "  <tbody>\n",
              "    <tr>\n",
              "      <th>0</th>\n",
              "      <td>What is the capital of France?</td>\n",
              "      <td>Paris</td>\n",
              "    </tr>\n",
              "    <tr>\n",
              "      <th>1</th>\n",
              "      <td>What is the capital of Germany?</td>\n",
              "      <td>Berlin</td>\n",
              "    </tr>\n",
              "    <tr>\n",
              "      <th>2</th>\n",
              "      <td>Who wrote 'To Kill a Mockingbird'?</td>\n",
              "      <td>Harper-Lee</td>\n",
              "    </tr>\n",
              "    <tr>\n",
              "      <th>3</th>\n",
              "      <td>What is the largest planet in our solar system?</td>\n",
              "      <td>Jupiter</td>\n",
              "    </tr>\n",
              "    <tr>\n",
              "      <th>4</th>\n",
              "      <td>What is the boiling point of water in Celsius?</td>\n",
              "      <td>100</td>\n",
              "    </tr>\n",
              "  </tbody>\n",
              "</table>\n",
              "</div>\n",
              "    <div class=\"colab-df-buttons\">\n",
              "\n",
              "  <div class=\"colab-df-container\">\n",
              "    <button class=\"colab-df-convert\" onclick=\"convertToInteractive('df-25a8331e-846b-4555-8ed0-cda72275e872')\"\n",
              "            title=\"Convert this dataframe to an interactive table.\"\n",
              "            style=\"display:none;\">\n",
              "\n",
              "  <svg xmlns=\"http://www.w3.org/2000/svg\" height=\"24px\" viewBox=\"0 -960 960 960\">\n",
              "    <path d=\"M120-120v-720h720v720H120Zm60-500h600v-160H180v160Zm220 220h160v-160H400v160Zm0 220h160v-160H400v160ZM180-400h160v-160H180v160Zm440 0h160v-160H620v160ZM180-180h160v-160H180v160Zm440 0h160v-160H620v160Z\"/>\n",
              "  </svg>\n",
              "    </button>\n",
              "\n",
              "  <style>\n",
              "    .colab-df-container {\n",
              "      display:flex;\n",
              "      gap: 12px;\n",
              "    }\n",
              "\n",
              "    .colab-df-convert {\n",
              "      background-color: #E8F0FE;\n",
              "      border: none;\n",
              "      border-radius: 50%;\n",
              "      cursor: pointer;\n",
              "      display: none;\n",
              "      fill: #1967D2;\n",
              "      height: 32px;\n",
              "      padding: 0 0 0 0;\n",
              "      width: 32px;\n",
              "    }\n",
              "\n",
              "    .colab-df-convert:hover {\n",
              "      background-color: #E2EBFA;\n",
              "      box-shadow: 0px 1px 2px rgba(60, 64, 67, 0.3), 0px 1px 3px 1px rgba(60, 64, 67, 0.15);\n",
              "      fill: #174EA6;\n",
              "    }\n",
              "\n",
              "    .colab-df-buttons div {\n",
              "      margin-bottom: 4px;\n",
              "    }\n",
              "\n",
              "    [theme=dark] .colab-df-convert {\n",
              "      background-color: #3B4455;\n",
              "      fill: #D2E3FC;\n",
              "    }\n",
              "\n",
              "    [theme=dark] .colab-df-convert:hover {\n",
              "      background-color: #434B5C;\n",
              "      box-shadow: 0px 1px 3px 1px rgba(0, 0, 0, 0.15);\n",
              "      filter: drop-shadow(0px 1px 2px rgba(0, 0, 0, 0.3));\n",
              "      fill: #FFFFFF;\n",
              "    }\n",
              "  </style>\n",
              "\n",
              "    <script>\n",
              "      const buttonEl =\n",
              "        document.querySelector('#df-25a8331e-846b-4555-8ed0-cda72275e872 button.colab-df-convert');\n",
              "      buttonEl.style.display =\n",
              "        google.colab.kernel.accessAllowed ? 'block' : 'none';\n",
              "\n",
              "      async function convertToInteractive(key) {\n",
              "        const element = document.querySelector('#df-25a8331e-846b-4555-8ed0-cda72275e872');\n",
              "        const dataTable =\n",
              "          await google.colab.kernel.invokeFunction('convertToInteractive',\n",
              "                                                    [key], {});\n",
              "        if (!dataTable) return;\n",
              "\n",
              "        const docLinkHtml = 'Like what you see? Visit the ' +\n",
              "          '<a target=\"_blank\" href=https://colab.research.google.com/notebooks/data_table.ipynb>data table notebook</a>'\n",
              "          + ' to learn more about interactive tables.';\n",
              "        element.innerHTML = '';\n",
              "        dataTable['output_type'] = 'display_data';\n",
              "        await google.colab.output.renderOutput(dataTable, element);\n",
              "        const docLink = document.createElement('div');\n",
              "        docLink.innerHTML = docLinkHtml;\n",
              "        element.appendChild(docLink);\n",
              "      }\n",
              "    </script>\n",
              "  </div>\n",
              "\n",
              "\n",
              "    <div id=\"df-23d978ec-1854-413e-8a8a-e53b22bf10a5\">\n",
              "      <button class=\"colab-df-quickchart\" onclick=\"quickchart('df-23d978ec-1854-413e-8a8a-e53b22bf10a5')\"\n",
              "                title=\"Suggest charts\"\n",
              "                style=\"display:none;\">\n",
              "\n",
              "<svg xmlns=\"http://www.w3.org/2000/svg\" height=\"24px\"viewBox=\"0 0 24 24\"\n",
              "     width=\"24px\">\n",
              "    <g>\n",
              "        <path d=\"M19 3H5c-1.1 0-2 .9-2 2v14c0 1.1.9 2 2 2h14c1.1 0 2-.9 2-2V5c0-1.1-.9-2-2-2zM9 17H7v-7h2v7zm4 0h-2V7h2v10zm4 0h-2v-4h2v4z\"/>\n",
              "    </g>\n",
              "</svg>\n",
              "      </button>\n",
              "\n",
              "<style>\n",
              "  .colab-df-quickchart {\n",
              "      --bg-color: #E8F0FE;\n",
              "      --fill-color: #1967D2;\n",
              "      --hover-bg-color: #E2EBFA;\n",
              "      --hover-fill-color: #174EA6;\n",
              "      --disabled-fill-color: #AAA;\n",
              "      --disabled-bg-color: #DDD;\n",
              "  }\n",
              "\n",
              "  [theme=dark] .colab-df-quickchart {\n",
              "      --bg-color: #3B4455;\n",
              "      --fill-color: #D2E3FC;\n",
              "      --hover-bg-color: #434B5C;\n",
              "      --hover-fill-color: #FFFFFF;\n",
              "      --disabled-bg-color: #3B4455;\n",
              "      --disabled-fill-color: #666;\n",
              "  }\n",
              "\n",
              "  .colab-df-quickchart {\n",
              "    background-color: var(--bg-color);\n",
              "    border: none;\n",
              "    border-radius: 50%;\n",
              "    cursor: pointer;\n",
              "    display: none;\n",
              "    fill: var(--fill-color);\n",
              "    height: 32px;\n",
              "    padding: 0;\n",
              "    width: 32px;\n",
              "  }\n",
              "\n",
              "  .colab-df-quickchart:hover {\n",
              "    background-color: var(--hover-bg-color);\n",
              "    box-shadow: 0 1px 2px rgba(60, 64, 67, 0.3), 0 1px 3px 1px rgba(60, 64, 67, 0.15);\n",
              "    fill: var(--button-hover-fill-color);\n",
              "  }\n",
              "\n",
              "  .colab-df-quickchart-complete:disabled,\n",
              "  .colab-df-quickchart-complete:disabled:hover {\n",
              "    background-color: var(--disabled-bg-color);\n",
              "    fill: var(--disabled-fill-color);\n",
              "    box-shadow: none;\n",
              "  }\n",
              "\n",
              "  .colab-df-spinner {\n",
              "    border: 2px solid var(--fill-color);\n",
              "    border-color: transparent;\n",
              "    border-bottom-color: var(--fill-color);\n",
              "    animation:\n",
              "      spin 1s steps(1) infinite;\n",
              "  }\n",
              "\n",
              "  @keyframes spin {\n",
              "    0% {\n",
              "      border-color: transparent;\n",
              "      border-bottom-color: var(--fill-color);\n",
              "      border-left-color: var(--fill-color);\n",
              "    }\n",
              "    20% {\n",
              "      border-color: transparent;\n",
              "      border-left-color: var(--fill-color);\n",
              "      border-top-color: var(--fill-color);\n",
              "    }\n",
              "    30% {\n",
              "      border-color: transparent;\n",
              "      border-left-color: var(--fill-color);\n",
              "      border-top-color: var(--fill-color);\n",
              "      border-right-color: var(--fill-color);\n",
              "    }\n",
              "    40% {\n",
              "      border-color: transparent;\n",
              "      border-right-color: var(--fill-color);\n",
              "      border-top-color: var(--fill-color);\n",
              "    }\n",
              "    60% {\n",
              "      border-color: transparent;\n",
              "      border-right-color: var(--fill-color);\n",
              "    }\n",
              "    80% {\n",
              "      border-color: transparent;\n",
              "      border-right-color: var(--fill-color);\n",
              "      border-bottom-color: var(--fill-color);\n",
              "    }\n",
              "    90% {\n",
              "      border-color: transparent;\n",
              "      border-bottom-color: var(--fill-color);\n",
              "    }\n",
              "  }\n",
              "</style>\n",
              "\n",
              "      <script>\n",
              "        async function quickchart(key) {\n",
              "          const quickchartButtonEl =\n",
              "            document.querySelector('#' + key + ' button');\n",
              "          quickchartButtonEl.disabled = true;  // To prevent multiple clicks.\n",
              "          quickchartButtonEl.classList.add('colab-df-spinner');\n",
              "          try {\n",
              "            const charts = await google.colab.kernel.invokeFunction(\n",
              "                'suggestCharts', [key], {});\n",
              "          } catch (error) {\n",
              "            console.error('Error during call to suggestCharts:', error);\n",
              "          }\n",
              "          quickchartButtonEl.classList.remove('colab-df-spinner');\n",
              "          quickchartButtonEl.classList.add('colab-df-quickchart-complete');\n",
              "        }\n",
              "        (() => {\n",
              "          let quickchartButtonEl =\n",
              "            document.querySelector('#df-23d978ec-1854-413e-8a8a-e53b22bf10a5 button');\n",
              "          quickchartButtonEl.style.display =\n",
              "            google.colab.kernel.accessAllowed ? 'block' : 'none';\n",
              "        })();\n",
              "      </script>\n",
              "    </div>\n",
              "\n",
              "    </div>\n",
              "  </div>\n"
            ],
            "application/vnd.google.colaboratory.intrinsic+json": {
              "type": "dataframe",
              "variable_name": "df",
              "summary": "{\n  \"name\": \"df\",\n  \"rows\": 90,\n  \"fields\": [\n    {\n      \"column\": \"question\",\n      \"properties\": {\n        \"dtype\": \"string\",\n        \"num_unique_values\": 90,\n        \"samples\": [\n          \"What is the currency of China?\",\n          \"What is the capital of Australia?\",\n          \"Who discovered electricity?\"\n        ],\n        \"semantic_type\": \"\",\n        \"description\": \"\"\n      }\n    },\n    {\n      \"column\": \"answer\",\n      \"properties\": {\n        \"dtype\": \"string\",\n        \"num_unique_values\": 85,\n        \"samples\": [\n          \"ChristopherColumbus\",\n          \"Paris\",\n          \"Christmas\"\n        ],\n        \"semantic_type\": \"\",\n        \"description\": \"\"\n      }\n    }\n  ]\n}"
            }
          },
          "metadata": {},
          "execution_count": 4
        }
      ]
    },
    {
      "cell_type": "code",
      "source": [
        "import nltk\n",
        "nltk.download('punkt')\n",
        "nltk.download('stopwords')\n",
        "nltk.download('punkt_tab')"
      ],
      "metadata": {
        "colab": {
          "base_uri": "https://localhost:8080/"
        },
        "id": "cdddfXMbiHVX",
        "outputId": "f1545a5e-21ee-4fac-c61c-44cc5cf082ac"
      },
      "execution_count": 5,
      "outputs": [
        {
          "output_type": "stream",
          "name": "stderr",
          "text": [
            "[nltk_data] Downloading package punkt to /root/nltk_data...\n",
            "[nltk_data]   Unzipping tokenizers/punkt.zip.\n",
            "[nltk_data] Downloading package stopwords to /root/nltk_data...\n",
            "[nltk_data]   Unzipping corpora/stopwords.zip.\n",
            "[nltk_data] Downloading package punkt_tab to /root/nltk_data...\n",
            "[nltk_data]   Unzipping tokenizers/punkt_tab.zip.\n"
          ]
        },
        {
          "output_type": "execute_result",
          "data": {
            "text/plain": [
              "True"
            ]
          },
          "metadata": {},
          "execution_count": 5
        }
      ]
    },
    {
      "cell_type": "code",
      "source": [
        "from nltk.tokenize import word_tokenize\n",
        "from nltk.corpus import stopwords\n",
        "import string\n",
        "import re"
      ],
      "metadata": {
        "id": "66AjaXYBaecH"
      },
      "execution_count": 11,
      "outputs": []
    },
    {
      "cell_type": "code",
      "source": [
        "stop_words=set(stopwords.words(\"english\"))"
      ],
      "metadata": {
        "id": "iLm2_8qnia3E"
      },
      "execution_count": 13,
      "outputs": []
    },
    {
      "cell_type": "code",
      "source": [
        "def tokenization(text):\n",
        "  text=text.lower()\n",
        "  text = re.sub(f\"[{re.escape(string.punctuation)}]\", \"\", text)\n",
        "  tokens=word_tokenize(text)\n",
        "  tokens= [t for t in tokens if t not in string.punctuation]\n",
        "  return tokens"
      ],
      "metadata": {
        "id": "yBLzmyk-if2U"
      },
      "execution_count": 12,
      "outputs": []
    },
    {
      "cell_type": "code",
      "source": [
        "tokenization(\"devil 'is' evil\")"
      ],
      "metadata": {
        "colab": {
          "base_uri": "https://localhost:8080/"
        },
        "id": "fyei__D7if5X",
        "outputId": "a7f07030-2cfd-46f6-d703-3cf04bf2157c"
      },
      "execution_count": 14,
      "outputs": [
        {
          "output_type": "execute_result",
          "data": {
            "text/plain": [
              "['devil', 'is', 'evil']"
            ]
          },
          "metadata": {},
          "execution_count": 14
        }
      ]
    },
    {
      "cell_type": "code",
      "source": [
        "vocab={\"<UNK>\":0}"
      ],
      "metadata": {
        "id": "dm6b8Wftlw0S"
      },
      "execution_count": 17,
      "outputs": []
    },
    {
      "cell_type": "code",
      "source": [
        "#creating vocab\n",
        "def create_vocab(row):\n",
        "  print(row['question'],row['answer'])\n",
        "  tokened_question=tokenization(row['question'])\n",
        "  tokened_answer=tokenization(row['answer'])\n",
        "  merged_token=tokened_question+tokened_answer\n",
        "  for token in merged_token:\n",
        "    if token not in vocab:\n",
        "      vocab[token]=len(vocab)"
      ],
      "metadata": {
        "id": "HasJ2k9hllAG"
      },
      "execution_count": 19,
      "outputs": []
    },
    {
      "cell_type": "code",
      "source": [
        "vocab"
      ],
      "metadata": {
        "colab": {
          "base_uri": "https://localhost:8080/"
        },
        "id": "6n5MxjGkrdlN",
        "outputId": "f6f6a478-df0f-4a66-dcf0-7a4e0cb165d1"
      },
      "execution_count": 20,
      "outputs": [
        {
          "output_type": "execute_result",
          "data": {
            "text/plain": [
              "{'<UNK>': 0}"
            ]
          },
          "metadata": {},
          "execution_count": 20
        }
      ]
    },
    {
      "cell_type": "code",
      "source": [],
      "metadata": {
        "id": "iLaLCgbVrd1P"
      },
      "execution_count": 20,
      "outputs": []
    },
    {
      "cell_type": "code",
      "source": [
        "df.apply(create_vocab,axis=1)\n"
      ],
      "metadata": {
        "colab": {
          "base_uri": "https://localhost:8080/",
          "height": 1000
        },
        "id": "BPDzhiEXmbwr",
        "outputId": "c34c6c55-d736-4ef3-dcb4-10ea26210b7d"
      },
      "execution_count": 21,
      "outputs": [
        {
          "output_type": "stream",
          "name": "stdout",
          "text": [
            "What is the capital of France? Paris\n",
            "What is the capital of Germany? Berlin\n",
            "Who wrote 'To Kill a Mockingbird'? Harper-Lee\n",
            "What is the largest planet in our solar system? Jupiter\n",
            "What is the boiling point of water in Celsius? 100\n",
            "Who painted the Mona Lisa? Leonardo-da-Vinci\n",
            "What is the square root of 64? 8\n",
            "What is the chemical symbol for gold? Au\n",
            "Which year did World War II end? 1945\n",
            "What is the longest river in the world? Nile\n",
            "What is the capital of Japan? Tokyo\n",
            "Who developed the theory of relativity? Albert-Einstein\n",
            "What is the freezing point of water in Fahrenheit? 32\n",
            "Which planet is known as the Red Planet? Mars\n",
            "Who is the author of '1984'? George-Orwell\n",
            "What is the currency of the United Kingdom? Pound\n",
            "What is the capital of India? Delhi\n",
            "Who discovered gravity? Newton\n",
            "How many continents are there on Earth? 7\n",
            "Which gas do plants use for photosynthesis? CO2\n",
            "What is the smallest prime number? 2\n",
            "Who invented the telephone? Alexander-Graham-Bell\n",
            "What is the capital of Australia? Canberra\n",
            "Which ocean is the largest? Pacific-Ocean\n",
            "What is the speed of light in vacuum? 299,792,458m/s\n",
            "Which language is spoken in Brazil? Portuguese\n",
            "Who discovered penicillin? Alexander-Fleming\n",
            "What is the capital of Canada? Ottawa\n",
            "What is the largest mammal on Earth? Whale\n",
            "Which element has the atomic number 1? Hydrogen\n",
            "What is the tallest mountain in the world? Everest\n",
            "Which city is known as the Big Apple? NewYork\n",
            "How many planets are in the Solar System? 8\n",
            "Who painted 'Starry Night'? vangogh\n",
            "What is the chemical formula of water? H2O\n",
            "What is the capital of Italy? Rome\n",
            "Which country is famous for sushi? Japan\n",
            "Who was the first person to step on the Moon? Armstrong\n",
            "What is the main ingredient in guacamole? Avocado\n",
            "How many sides does a hexagon have? 6\n",
            "What is the currency of China? Yuan\n",
            "Who wrote 'Pride and Prejudice'? Jane-Austen\n",
            "What is the chemical symbol for iron? Fe\n",
            "What is the hardest natural substance on Earth? Diamond\n",
            "Which continent is the largest by area? Asia\n",
            "Who was the first President of the United States? George-Washington\n",
            "Which bird is known for its ability to mimic sounds? Parrot\n",
            "What is the longest-running animated TV show? Simpsons\n",
            "What is the smallest country in the world? VaticanCity\n",
            "Which planet has the most moons? Saturn\n",
            "Who wrote 'Romeo and Juliet'? Shakespeare\n",
            "What is the main gas in Earth's atmosphere? Nitrogen\n",
            "How many bones are in the adult human body? 206\n",
            "Which metal is a liquid at room temperature? Mercury\n",
            "What is the capital of Russia? Moscow\n",
            "Who discovered electricity? Benjamin-Franklin\n",
            "Which is the second-largest country by land area? Canada\n",
            "What is the color of a ripe banana? Yellow\n",
            "Which month has 28 days in a common year? February\n",
            "What is the study of living organisms called? Biology\n",
            "Which country is home to the Great Wall? China\n",
            "What do bees collect from flowers? Nectar\n",
            "What is the opposite of 'day'? Night\n",
            "What is the capital of South Korea? Seoul\n",
            "Who invented the light bulb? Edison\n",
            "Which gas do humans breathe in for survival? Oxygen\n",
            "What is the square root of 144? 12\n",
            "Which country has the pyramids of Giza? Egypt\n",
            "Which sea creature has eight arms? Octopus\n",
            "Which holiday is celebrated on December 25? Christmas\n",
            "What is the currency of Japan? Yen\n",
            "How many legs does a spider have? 8\n",
            "Which sport uses a net, ball, and hoop? Basketball\n",
            "Which country is famous for its kangaroos? Australia\n",
            "Who was the first female Prime Minister of the UK? MargaretThatcher\n",
            "Which is the fastest land animal? Cheetah\n",
            "What is the first element on the periodic table? Hydrogen\n",
            "What is the capital of Spain? Madrid\n",
            "Which planet is the closest to the Sun? Mercury\n",
            "Who is known as the father of computers? CharlesBabbage\n",
            "What is the capital of Mexico? MexicoCity\n",
            "How many colors are in a rainbow? 7\n",
            "Which musical instrument has black and white keys? Piano\n",
            "Who discovered the Americas in 1492? ChristopherColumbus\n",
            "Which Disney character has a long nose and grows it when lying? Pinocchio\n",
            "Who directed the movie 'Titanic'? JamesCameron\n",
            "Which superhero is also known as the Dark Knight? Batman\n",
            "What is the capital of Brazil? Brasilia\n",
            "Which fruit is known as the king of fruits? Mango\n",
            "Which country is known for the Eiffel Tower? France\n"
          ]
        },
        {
          "output_type": "execute_result",
          "data": {
            "text/plain": [
              "0     None\n",
              "1     None\n",
              "2     None\n",
              "3     None\n",
              "4     None\n",
              "      ... \n",
              "85    None\n",
              "86    None\n",
              "87    None\n",
              "88    None\n",
              "89    None\n",
              "Length: 90, dtype: object"
            ],
            "text/html": [
              "<div>\n",
              "<style scoped>\n",
              "    .dataframe tbody tr th:only-of-type {\n",
              "        vertical-align: middle;\n",
              "    }\n",
              "\n",
              "    .dataframe tbody tr th {\n",
              "        vertical-align: top;\n",
              "    }\n",
              "\n",
              "    .dataframe thead th {\n",
              "        text-align: right;\n",
              "    }\n",
              "</style>\n",
              "<table border=\"1\" class=\"dataframe\">\n",
              "  <thead>\n",
              "    <tr style=\"text-align: right;\">\n",
              "      <th></th>\n",
              "      <th>0</th>\n",
              "    </tr>\n",
              "  </thead>\n",
              "  <tbody>\n",
              "    <tr>\n",
              "      <th>0</th>\n",
              "      <td>None</td>\n",
              "    </tr>\n",
              "    <tr>\n",
              "      <th>1</th>\n",
              "      <td>None</td>\n",
              "    </tr>\n",
              "    <tr>\n",
              "      <th>2</th>\n",
              "      <td>None</td>\n",
              "    </tr>\n",
              "    <tr>\n",
              "      <th>3</th>\n",
              "      <td>None</td>\n",
              "    </tr>\n",
              "    <tr>\n",
              "      <th>4</th>\n",
              "      <td>None</td>\n",
              "    </tr>\n",
              "    <tr>\n",
              "      <th>...</th>\n",
              "      <td>...</td>\n",
              "    </tr>\n",
              "    <tr>\n",
              "      <th>85</th>\n",
              "      <td>None</td>\n",
              "    </tr>\n",
              "    <tr>\n",
              "      <th>86</th>\n",
              "      <td>None</td>\n",
              "    </tr>\n",
              "    <tr>\n",
              "      <th>87</th>\n",
              "      <td>None</td>\n",
              "    </tr>\n",
              "    <tr>\n",
              "      <th>88</th>\n",
              "      <td>None</td>\n",
              "    </tr>\n",
              "    <tr>\n",
              "      <th>89</th>\n",
              "      <td>None</td>\n",
              "    </tr>\n",
              "  </tbody>\n",
              "</table>\n",
              "<p>90 rows × 1 columns</p>\n",
              "</div><br><label><b>dtype:</b> object</label>"
            ]
          },
          "metadata": {},
          "execution_count": 21
        }
      ]
    },
    {
      "cell_type": "code",
      "source": [
        "len(vocab)"
      ],
      "metadata": {
        "colab": {
          "base_uri": "https://localhost:8080/"
        },
        "id": "UhCJJnUkm638",
        "outputId": "c78badb0-7461-4ff7-9f69-d1638baa41d4"
      },
      "execution_count": 22,
      "outputs": [
        {
          "output_type": "execute_result",
          "data": {
            "text/plain": [
              "324"
            ]
          },
          "metadata": {},
          "execution_count": 22
        }
      ]
    },
    {
      "cell_type": "code",
      "source": [
        "def text_to_indices(text,vocab):\n",
        "  indexed_text=[]\n",
        "  for token in tokenization(text):\n",
        "    if token in vocab:\n",
        "      indexed_text.append(vocab[token])\n",
        "    else:\n",
        "      indexed_text.append(vocab[\"<UNK>\"])\n",
        "  return indexed_text"
      ],
      "metadata": {
        "id": "VACKB3XUrawH"
      },
      "execution_count": 23,
      "outputs": []
    },
    {
      "cell_type": "code",
      "source": [
        "text_to_indices(\"where is india\",vocab)"
      ],
      "metadata": {
        "colab": {
          "base_uri": "https://localhost:8080/"
        },
        "id": "5_IDC4Ulsaxa",
        "outputId": "ff02262d-016c-47c3-91cd-ab253a4368af"
      },
      "execution_count": 24,
      "outputs": [
        {
          "output_type": "execute_result",
          "data": {
            "text/plain": [
              "[0, 2, 73]"
            ]
          },
          "metadata": {},
          "execution_count": 24
        }
      ]
    },
    {
      "cell_type": "code",
      "source": [],
      "metadata": {
        "id": "kQeGa881sld8"
      },
      "execution_count": null,
      "outputs": []
    },
    {
      "cell_type": "code",
      "source": [
        "class MyDataset(Dataset):\n",
        "  def __init__(self,df,vocab):\n",
        "    self.df=df\n",
        "    self.vocab=vocab\n",
        "\n",
        "  def __len__(self):\n",
        "    return len(self.df)\n",
        "\n",
        "  def __getitem__(self,index):\n",
        "   num_q= text_to_indices(self.df.iloc[index]['question'],self.vocab)\n",
        "   num_a=text_to_indices(self.df.iloc[index]['answer'],self.vocab)\n",
        "   return torch.tensor(num_q),torch.tensor(num_a)"
      ],
      "metadata": {
        "id": "cgagEJ5-WMrD"
      },
      "execution_count": 25,
      "outputs": []
    },
    {
      "cell_type": "code",
      "source": [
        "dataset=MyDataset(df,vocab)"
      ],
      "metadata": {
        "id": "uqy18hIBtJ4J"
      },
      "execution_count": 26,
      "outputs": []
    },
    {
      "cell_type": "code",
      "source": [
        "dataset[0]"
      ],
      "metadata": {
        "colab": {
          "base_uri": "https://localhost:8080/"
        },
        "id": "NHdwa7cpyMuc",
        "outputId": "4e8a2b73-c799-4671-8ffe-d86f41c41301"
      },
      "execution_count": 27,
      "outputs": [
        {
          "output_type": "execute_result",
          "data": {
            "text/plain": [
              "(tensor([1, 2, 3, 4, 5, 6]), tensor([7]))"
            ]
          },
          "metadata": {},
          "execution_count": 27
        }
      ]
    },
    {
      "cell_type": "code",
      "source": [
        "dataloader=DataLoader(dataset,batch_size=1,shuffle=True)\n"
      ],
      "metadata": {
        "id": "c6JMEhxAtPMj"
      },
      "execution_count": 28,
      "outputs": []
    },
    {
      "cell_type": "code",
      "source": [
        "class SimpleRNN(nn.Module):\n",
        "\n",
        "  def __init__(self, vocab_size):\n",
        "    super().__init__()\n",
        "    self.embedding = nn.Embedding(vocab_size, embedding_dim=50)\n",
        "    self.rnn = nn.RNN(50, 64, batch_first=True)\n",
        "    self.fc = nn.Linear(64, vocab_size)\n",
        "\n",
        "  def forward(self, question):\n",
        "    embedded_question = self.embedding(question)\n",
        "    hidden, final = self.rnn(embedded_question)\n",
        "    output = self.fc(final.squeeze(0))\n",
        "\n",
        "    return output"
      ],
      "metadata": {
        "id": "pwpbO8yUtcdF"
      },
      "execution_count": 30,
      "outputs": []
    },
    {
      "cell_type": "code",
      "source": [
        "epochs =50\n",
        "learning_rate=0.001\n",
        "model = SimpleRNN(len(vocab))\n",
        "criterion = nn.CrossEntropyLoss()\n",
        "optimizer = torch.optim.Adam(model.parameters(), lr=learning_rate)\n",
        "\n",
        "\n",
        "\n",
        "\n"
      ],
      "metadata": {
        "id": "4zWPO5zBtXJu"
      },
      "execution_count": 31,
      "outputs": []
    },
    {
      "cell_type": "code",
      "source": [
        "dataset[10]"
      ],
      "metadata": {
        "colab": {
          "base_uri": "https://localhost:8080/"
        },
        "id": "pSm_xtgLxjJ3",
        "outputId": "1fc05e71-20e3-4c99-81cf-6efd423174a1"
      },
      "execution_count": 32,
      "outputs": [
        {
          "output_type": "execute_result",
          "data": {
            "text/plain": [
              "(tensor([ 1,  2,  3,  4,  5, 53]), tensor([54]))"
            ]
          },
          "metadata": {},
          "execution_count": 32
        }
      ]
    },
    {
      "cell_type": "code",
      "source": [
        "# training loop\n",
        "\n",
        "for epoch in range(epochs):\n",
        "\n",
        "  total_loss = 0\n",
        "\n",
        "  for question, answer in dataloader:\n",
        "\n",
        "    optimizer.zero_grad()\n",
        "\n",
        "    # forward pass\n",
        "    output = model(question)\n",
        "\n",
        "    # loss -> output shape (1,324) - (1)\n",
        "    loss = criterion(output, answer[0])\n",
        "\n",
        "    # gradients\n",
        "    loss.backward()\n",
        "\n",
        "    # update\n",
        "    optimizer.step()\n",
        "\n",
        "    total_loss = total_loss + loss.item()\n",
        "\n",
        "  print(f\"Epoch: {epoch+1}, Loss: {total_loss:4f}\")"
      ],
      "metadata": {
        "colab": {
          "base_uri": "https://localhost:8080/"
        },
        "id": "dty8FrN7wiKz",
        "outputId": "87c9db9a-f5e6-4f08-d6c9-d1f0dbf4491b"
      },
      "execution_count": 33,
      "outputs": [
        {
          "output_type": "stream",
          "name": "stdout",
          "text": [
            "Epoch: 1, Loss: 523.712223\n",
            "Epoch: 2, Loss: 458.089159\n",
            "Epoch: 3, Loss: 381.316672\n",
            "Epoch: 4, Loss: 320.497842\n",
            "Epoch: 5, Loss: 267.850753\n",
            "Epoch: 6, Loss: 219.626464\n",
            "Epoch: 7, Loss: 175.074743\n",
            "Epoch: 8, Loss: 136.391486\n",
            "Epoch: 9, Loss: 105.096021\n",
            "Epoch: 10, Loss: 80.730891\n",
            "Epoch: 11, Loss: 62.010368\n",
            "Epoch: 12, Loss: 48.440881\n",
            "Epoch: 13, Loss: 38.909123\n",
            "Epoch: 14, Loss: 30.988472\n",
            "Epoch: 15, Loss: 25.690768\n",
            "Epoch: 16, Loss: 21.191086\n",
            "Epoch: 17, Loss: 18.025884\n",
            "Epoch: 18, Loss: 15.265665\n",
            "Epoch: 19, Loss: 13.168659\n",
            "Epoch: 20, Loss: 11.401785\n",
            "Epoch: 21, Loss: 9.951072\n",
            "Epoch: 22, Loss: 8.845055\n",
            "Epoch: 23, Loss: 7.781860\n",
            "Epoch: 24, Loss: 7.001473\n",
            "Epoch: 25, Loss: 6.216836\n",
            "Epoch: 26, Loss: 5.633423\n",
            "Epoch: 27, Loss: 5.090116\n",
            "Epoch: 28, Loss: 4.608593\n",
            "Epoch: 29, Loss: 4.222181\n",
            "Epoch: 30, Loss: 3.841997\n",
            "Epoch: 31, Loss: 3.543508\n",
            "Epoch: 32, Loss: 3.234192\n",
            "Epoch: 33, Loss: 3.008668\n",
            "Epoch: 34, Loss: 2.774799\n",
            "Epoch: 35, Loss: 2.566243\n",
            "Epoch: 36, Loss: 2.382213\n",
            "Epoch: 37, Loss: 2.210644\n",
            "Epoch: 38, Loss: 2.064538\n",
            "Epoch: 39, Loss: 1.923677\n",
            "Epoch: 40, Loss: 1.795338\n",
            "Epoch: 41, Loss: 1.676936\n",
            "Epoch: 42, Loss: 1.569865\n",
            "Epoch: 43, Loss: 1.472395\n",
            "Epoch: 44, Loss: 1.379257\n",
            "Epoch: 45, Loss: 1.296133\n",
            "Epoch: 46, Loss: 1.220980\n",
            "Epoch: 47, Loss: 1.144677\n",
            "Epoch: 48, Loss: 1.078791\n",
            "Epoch: 49, Loss: 1.017043\n",
            "Epoch: 50, Loss: 0.960144\n"
          ]
        }
      ]
    },
    {
      "cell_type": "code",
      "source": [
        "def predict(model, question, threshold=0.5):\n",
        "\n",
        "  # convert question to numbers\n",
        "  numerical_question = text_to_indices(question, vocab)\n",
        "\n",
        "  # tensor\n",
        "  question_tensor = torch.tensor(numerical_question).unsqueeze(0)\n",
        "\n",
        "  # send to model\n",
        "  output = model(question_tensor)\n",
        "\n",
        "  # convert logits to probs\n",
        "  probs = torch.nn.functional.softmax(output, dim=1)\n",
        "\n",
        "  # find index of max prob\n",
        "  value, index = torch.max(probs, dim=1)\n",
        "\n",
        "  if value < threshold:\n",
        "    print(\"I don't know\")\n",
        "\n",
        "  print(list(vocab.keys())[index])"
      ],
      "metadata": {
        "id": "lMM9wQVF0uVC"
      },
      "execution_count": 34,
      "outputs": []
    },
    {
      "cell_type": "code",
      "source": [
        "predict(model,\"capital of india\")"
      ],
      "metadata": {
        "id": "do2xQF5Zw_NO",
        "colab": {
          "base_uri": "https://localhost:8080/"
        },
        "outputId": "0ca5a10a-0d1e-47ab-8fb8-dd2482b4be3a"
      },
      "execution_count": 37,
      "outputs": [
        {
          "output_type": "stream",
          "name": "stdout",
          "text": [
            "delhi\n"
          ]
        }
      ]
    }
  ]
}